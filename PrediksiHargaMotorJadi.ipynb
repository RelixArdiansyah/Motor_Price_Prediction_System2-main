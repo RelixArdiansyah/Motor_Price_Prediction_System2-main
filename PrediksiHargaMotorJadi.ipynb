{
 "cells": [
  {
   "cell_type": "code",
   "execution_count": 1,
   "metadata": {
    "execution": {
     "iopub.execute_input": "2025-02-08T05:37:45.340994Z",
     "iopub.status.busy": "2025-02-08T05:37:45.338984Z",
     "iopub.status.idle": "2025-02-08T05:37:47.852677Z",
     "shell.execute_reply": "2025-02-08T05:37:47.851114Z"
    }
   },
   "outputs": [],
   "source": [
    "import pandas as pd\n",
    "from sklearn.linear_model import LinearRegression\n",
    "import pickle\n",
    "import os\n",
    "import shutil\n",
    "import json  # Untuk menyimpan dan membaca mapping"
   ]
  },
  {
   "cell_type": "markdown",
   "metadata": {},
   "source": [
    "Membaca data"
   ]
  },
  {
   "cell_type": "code",
   "execution_count": 2,
   "metadata": {
    "execution": {
     "iopub.execute_input": "2025-02-08T05:37:47.861060Z",
     "iopub.status.busy": "2025-02-08T05:37:47.860019Z",
     "iopub.status.idle": "2025-02-08T05:37:47.874155Z",
     "shell.execute_reply": "2025-02-08T05:37:47.873112Z"
    }
   },
   "outputs": [],
   "source": [
    "motor= pd.read_csv('olx.csv')"
   ]
  },
  {
   "cell_type": "markdown",
   "metadata": {},
   "source": [
    "**Pembersihan data**<br>\n",
    "Konversi kolom year menjadi integer"
   ]
  },
  {
   "cell_type": "code",
   "execution_count": 3,
   "metadata": {
    "execution": {
     "iopub.execute_input": "2025-02-08T05:37:47.881397Z",
     "iopub.status.busy": "2025-02-08T05:37:47.881397Z",
     "iopub.status.idle": "2025-02-08T05:37:47.889944Z",
     "shell.execute_reply": "2025-02-08T05:37:47.888901Z"
    }
   },
   "outputs": [],
   "source": [
    "motor['year'] = motor['year'].astype(int)"
   ]
  },
  {
   "cell_type": "code",
   "execution_count": 4,
   "metadata": {
    "execution": {
     "iopub.execute_input": "2025-02-08T05:37:47.896166Z",
     "iopub.status.busy": "2025-02-08T05:37:47.895131Z",
     "iopub.status.idle": "2025-02-08T05:37:47.920135Z",
     "shell.execute_reply": "2025-02-08T05:37:47.919091Z"
    }
   },
   "outputs": [
    {
     "data": {
      "text/plain": [
       "<bound method DataFrame.info of     company       name  year kms_driven       price fuel_type  unnamed: 6\n",
       "0     Honda      Vario  2011   5000 kms   7.500.000    bensin         NaN\n",
       "1     Honda       Beat  2018  45000 kms  15.300.000    bensin         NaN\n",
       "2    Yamaha        Mio  2022   5000 kms  13.300.000    bensin         NaN\n",
       "3     Honda     Scoopy  2015  25000 kms  12.400.000    bensin         NaN\n",
       "4     Honda     Scoopy  2015  25000 kms  12.400.000    bensin         NaN\n",
       "..      ...        ...   ...        ...         ...       ...         ...\n",
       "845   Smoot  Lain-lain  2020   5000 kms   2.500.000   listrik         NaN\n",
       "846   Smoot  Lain-lain  2023   5000 kms  10.300.000   listrik         NaN\n",
       "847   Honda     Scoopy  2018      25000    14500000    bensin         NaN\n",
       "848   Honda       Revo  2020      10000    10000000    bensin         NaN\n",
       "849   Honda     Scoopy  2025       1000    24000000    bensin         NaN\n",
       "\n",
       "[850 rows x 7 columns]>"
      ]
     },
     "execution_count": 4,
     "metadata": {},
     "output_type": "execute_result"
    }
   ],
   "source": [
    "motor.info"
   ]
  },
  {
   "cell_type": "markdown",
   "metadata": {},
   "source": [
    "Menghapus pemisah ribuan pada Price dan mengubahnya ke integer"
   ]
  },
  {
   "cell_type": "code",
   "execution_count": 5,
   "metadata": {
    "execution": {
     "iopub.execute_input": "2025-02-08T05:37:48.045798Z",
     "iopub.status.busy": "2025-02-08T05:37:48.044764Z",
     "iopub.status.idle": "2025-02-08T05:37:48.060501Z",
     "shell.execute_reply": "2025-02-08T05:37:48.059428Z"
    }
   },
   "outputs": [],
   "source": [
    "# Pastikan harga diformat dengan benar dan hapus '.0' jika ada\n",
    "motor['price'] = motor['price'].astype(str)  # Pastikan tipe data string\n",
    "motor['price'] = motor['price'].str.replace('.', '', regex=False)  # Hapus semua titik\n",
    "motor['price'] = motor['price'].str.replace(',', '', regex=False)  # Hapus semua koma\n",
    "motor['price'] = motor['price'].astype(int).astype(str)  # Konversi ke integer\n"
   ]
  },
  {
   "cell_type": "markdown",
   "metadata": {},
   "source": [
    "Menghapus karakter non-numerik dari kolom kms_driven"
   ]
  },
  {
   "cell_type": "code",
   "execution_count": 6,
   "metadata": {
    "execution": {
     "iopub.execute_input": "2025-02-08T05:37:48.068767Z",
     "iopub.status.busy": "2025-02-08T05:37:48.067767Z",
     "iopub.status.idle": "2025-02-08T05:37:48.081237Z",
     "shell.execute_reply": "2025-02-08T05:37:48.080194Z"
    }
   },
   "outputs": [],
   "source": [
    "motor['kms_driven'] = motor['kms_driven'].str.split(\" \").str.get(0).str.replace(',', '')\n",
    "motor = motor[motor['kms_driven'].str.isnumeric()]\n",
    "motor['kms_driven'] = motor['kms_driven'].astype(int)"
   ]
  },
  {
   "cell_type": "markdown",
   "metadata": {},
   "source": [
    "Menghapus nilai missing pada kolom fuel_type"
   ]
  },
  {
   "cell_type": "code",
   "execution_count": 7,
   "metadata": {
    "execution": {
     "iopub.execute_input": "2025-02-08T05:37:48.089606Z",
     "iopub.status.busy": "2025-02-08T05:37:48.087526Z",
     "iopub.status.idle": "2025-02-08T05:37:48.097358Z",
     "shell.execute_reply": "2025-02-08T05:37:48.095279Z"
    }
   },
   "outputs": [],
   "source": [
    "motor = motor[~motor['fuel_type'].isna()]"
   ]
  },
  {
   "cell_type": "markdown",
   "metadata": {},
   "source": [
    "**Proses nama menjadi angka berdasarkan frekuensi**"
   ]
  },
  {
   "cell_type": "code",
   "execution_count": 8,
   "metadata": {
    "execution": {
     "iopub.execute_input": "2025-02-08T05:37:48.103639Z",
     "iopub.status.busy": "2025-02-08T05:37:48.103639Z",
     "iopub.status.idle": "2025-02-08T05:37:48.109793Z",
     "shell.execute_reply": "2025-02-08T05:37:48.108717Z"
    }
   },
   "outputs": [],
   "source": [
    "columns_to_encode = ['company', 'name', 'fuel_type']\n",
    "mappings = {}"
   ]
  },
  {
   "cell_type": "code",
   "execution_count": 9,
   "metadata": {
    "execution": {
     "iopub.execute_input": "2025-02-08T05:37:48.117041Z",
     "iopub.status.busy": "2025-02-08T05:37:48.116007Z",
     "iopub.status.idle": "2025-02-08T05:37:48.130039Z",
     "shell.execute_reply": "2025-02-08T05:37:48.128980Z"
    }
   },
   "outputs": [],
   "source": [
    "for col in columns_to_encode:\n",
    "    mappings[col] = {k: i for i, k in enumerate(motor[col].value_counts().index, 1)}\n",
    "    motor[col] = motor[col].map(mappings[col])"
   ]
  },
  {
   "cell_type": "markdown",
   "metadata": {},
   "source": [
    "Menyimpan mapping ke file JSON"
   ]
  },
  {
   "cell_type": "code",
   "execution_count": 10,
   "metadata": {
    "execution": {
     "iopub.execute_input": "2025-02-08T05:37:48.137472Z",
     "iopub.status.busy": "2025-02-08T05:37:48.136421Z",
     "iopub.status.idle": "2025-02-08T05:37:48.146636Z",
     "shell.execute_reply": "2025-02-08T05:37:48.144557Z"
    }
   },
   "outputs": [],
   "source": [
    "with open('mappings.json', 'w') as f:\n",
    "    json.dump(mappings, f)"
   ]
  },
  {
   "cell_type": "markdown",
   "metadata": {},
   "source": [
    "Menyimpan dataset yang sudah dibersihkan"
   ]
  },
  {
   "cell_type": "code",
   "execution_count": 11,
   "metadata": {
    "execution": {
     "iopub.execute_input": "2025-02-08T05:37:48.152950Z",
     "iopub.status.busy": "2025-02-08T05:37:48.151892Z",
     "iopub.status.idle": "2025-02-08T05:37:48.166889Z",
     "shell.execute_reply": "2025-02-08T05:37:48.165350Z"
    }
   },
   "outputs": [],
   "source": [
    "motor.to_csv('olx_cleaned.csv', index=False)"
   ]
  },
  {
   "cell_type": "markdown",
   "metadata": {},
   "source": [
    "**Melatih model regresi linier**<br>\n",
    "Pastikan folder 'file_pkl' ada"
   ]
  },
  {
   "cell_type": "code",
   "execution_count": 12,
   "metadata": {
    "execution": {
     "iopub.execute_input": "2025-02-08T05:37:48.173586Z",
     "iopub.status.busy": "2025-02-08T05:37:48.172548Z",
     "iopub.status.idle": "2025-02-08T05:37:48.180350Z",
     "shell.execute_reply": "2025-02-08T05:37:48.178252Z"
    }
   },
   "outputs": [],
   "source": [
    "if not os.path.exists('file_pkl'):\n",
    "    os.makedirs('file_pkl')"
   ]
  },
  {
   "cell_type": "markdown",
   "metadata": {},
   "source": [
    "Function untuk melatih model"
   ]
  },
  {
   "cell_type": "code",
   "execution_count": 13,
   "metadata": {
    "execution": {
     "iopub.execute_input": "2025-02-08T05:37:48.187273Z",
     "iopub.status.busy": "2025-02-08T05:37:48.186238Z",
     "iopub.status.idle": "2025-02-08T05:37:48.203338Z",
     "shell.execute_reply": "2025-02-08T05:37:48.202291Z"
    }
   },
   "outputs": [],
   "source": [
    "def train_model(company, motor_model, fuel_type):\n",
    "    # Filter data untuk kombinasi tertentu\n",
    "    filtered_motor = motor[\n",
    "        (motor['company'] == company) & \n",
    "        (motor['name'] == motor_model) & \n",
    "        (motor['fuel_type'] == fuel_type)\n",
    "    ]\n",
    "\n",
    "    # Pastikan data cukup untuk melatih model\n",
    "    if len(filtered_motor) < 2:\n",
    "        print(f\"Not enough data for company: {company}, model: {motor_model}, fuel: {fuel_type}\")\n",
    "        return None\n",
    "\n",
    "    # Define fitur dan target\n",
    "    X = filtered_motor[['year', 'kms_driven', 'company', 'name', 'fuel_type']]\n",
    "    y = filtered_motor['price']\n",
    "\n",
    "    # Melatih model\n",
    "    model = LinearRegression()\n",
    "    model.fit(X, y)\n",
    "\n",
    "    # Mendapatkan nama asli dari encoding\n",
    "    company_name = [k for k, v in mappings['company'].items() if v == company][0]\n",
    "    model_name = [k for k, v in mappings['name'].items() if v == motor_model][0]\n",
    "    fuel_name = [k for k, v in mappings['fuel_type'].items() if v == fuel_type][0]\n",
    "\n",
    "    # Menyimpan model\n",
    "    filename = f\"MotorPriceModel_{company_name}_{model_name}_{fuel_name}.pkl\"\n",
    "    pickle.dump(model, open(filename, 'wb'))\n",
    "    shutil.move(filename, os.path.join('file_pkl', filename))\n",
    "    print(f\"Model saved: file_pkl/{filename}\")\n",
    "    return filename"
   ]
  },
  {
   "cell_type": "markdown",
   "metadata": {},
   "source": [
    "Melatih model untuk setiap kombinasi unik"
   ]
  },
  {
   "cell_type": "code",
   "execution_count": 14,
   "metadata": {
    "execution": {
     "iopub.execute_input": "2025-02-08T05:37:48.211732Z",
     "iopub.status.busy": "2025-02-08T05:37:48.210608Z",
     "iopub.status.idle": "2025-02-08T05:37:48.846431Z",
     "shell.execute_reply": "2025-02-08T05:37:48.845418Z"
    }
   },
   "outputs": [
    {
     "name": "stdout",
     "output_type": "stream",
     "text": [
      "Model saved: file_pkl/MotorPriceModel_Honda_Vario_bensin.pkl\n",
      "Model saved: file_pkl/MotorPriceModel_Honda_Beat_bensin.pkl\n",
      "Model saved: file_pkl/MotorPriceModel_Honda_Scoopy_bensin.pkl\n",
      "Model saved: file_pkl/MotorPriceModel_Honda_CBR_bensin.pkl\n",
      "Model saved: file_pkl/MotorPriceModel_Honda_PCX_bensin.pkl\n",
      "Model saved: file_pkl/MotorPriceModel_Honda_Supra_bensin.pkl\n",
      "Not enough data for company: 1, model: 58, fuel: 1\n",
      "Model saved: file_pkl/MotorPriceModel_Honda_CB 150R_bensin.pkl\n",
      "Model saved: file_pkl/MotorPriceModel_Honda_Forza_bensin.pkl\n",
      "Model saved: file_pkl/MotorPriceModel_Honda_CB_bensin.pkl\n",
      "Model saved: file_pkl/MotorPriceModel_Honda_Sonic_bensin.pkl\n",
      "Not enough data for company: 1, model: 69, fuel: 1\n",
      "Not enough data for company: 1, model: 68, fuel: 1\n",
      "Not enough data for company: 1, model: 67, fuel: 1\n",
      "Not enough data for company: 1, model: 61, fuel: 1\n",
      "Not enough data for company: 1, model: 59, fuel: 1\n",
      "Model saved: file_pkl/MotorPriceModel_Honda_CRF250Rally_bensin.pkl\n",
      "Model saved: file_pkl/MotorPriceModel_Honda_Revo_bensin.pkl\n",
      "Model saved: file_pkl/MotorPriceModel_Honda_Monkey_bensin.pkl\n",
      "Model saved: file_pkl/MotorPriceModel_Honda_Little Cub_bensin.pkl\n",
      "Not enough data for company: 1, model: 49, fuel: 1\n",
      "Not enough data for company: 1, model: 51, fuel: 1\n",
      "Model saved: file_pkl/MotorPriceModel_Yamaha_Mio_bensin.pkl\n",
      "Model saved: file_pkl/MotorPriceModel_Yamaha_NMAX_bensin.pkl\n",
      "Model saved: file_pkl/MotorPriceModel_Yamaha_Lexi_bensin.pkl\n",
      "Model saved: file_pkl/MotorPriceModel_Yamaha_Vixion_bensin.pkl\n",
      "Model saved: file_pkl/MotorPriceModel_Yamaha_Vega R_bensin.pkl\n",
      "Model saved: file_pkl/MotorPriceModel_Yamaha_Fino_bensin.pkl\n",
      "Model saved: file_pkl/MotorPriceModel_Yamaha_Xeon_bensin.pkl\n",
      "Model saved: file_pkl/MotorPriceModel_Yamaha_Xmax_bensin.pkl\n",
      "Model saved: file_pkl/MotorPriceModel_Yamaha_Jupiter_bensin.pkl\n"
     ]
    },
    {
     "name": "stdout",
     "output_type": "stream",
     "text": [
      "Model saved: file_pkl/MotorPriceModel_Yamaha_Aerox_bensin.pkl\n",
      "Model saved: file_pkl/MotorPriceModel_Yamaha_Freego_bensin.pkl\n",
      "Model saved: file_pkl/MotorPriceModel_Yamaha_Soul GT_bensin.pkl\n",
      "Model saved: file_pkl/MotorPriceModel_Yamaha_YZF R15_bensin.pkl\n",
      "Model saved: file_pkl/MotorPriceModel_Yamaha_MT 25_bensin.pkl\n",
      "Model saved: file_pkl/MotorPriceModel_Yamaha_Xabre_bensin.pkl\n",
      "Model saved: file_pkl/MotorPriceModel_Yamaha_Byson_bensin.pkl\n",
      "Not enough data for company: 2, model: 65, fuel: 1\n",
      "Model saved: file_pkl/MotorPriceModel_Yamaha_Scorpio_bensin.pkl\n",
      "Model saved: file_pkl/MotorPriceModel_Yamaha_F 1 ZR_bensin.pkl\n",
      "Not enough data for company: 2, model: 63, fuel: 1\n",
      "Not enough data for company: 2, model: 60, fuel: 1\n",
      "Model saved: file_pkl/MotorPriceModel_Yamaha_YZF R25_bensin.pkl\n",
      "Model saved: file_pkl/MotorPriceModel_Yamaha_WR 250_bensin.pkl\n",
      "Not enough data for company: 2, model: 54, fuel: 1\n",
      "Not enough data for company: 2, model: 56, fuel: 1\n",
      "Model saved: file_pkl/MotorPriceModel_Kawasaki_Ninja 250_bensin.pkl\n",
      "Model saved: file_pkl/MotorPriceModel_Kawasaki_ZX_bensin.pkl\n",
      "Not enough data for company: 3, model: 70, fuel: 1\n",
      "Model saved: file_pkl/MotorPriceModel_Kawasaki_W800_bensin.pkl\n",
      "Not enough data for company: 3, model: 66, fuel: 1\n",
      "Model saved: file_pkl/MotorPriceModel_Kawasaki_Ninja R_bensin.pkl\n",
      "Not enough data for company: 3, model: 64, fuel: 1\n",
      "Model saved: file_pkl/MotorPriceModel_Kawasaki_Z Series_bensin.pkl\n",
      "Model saved: file_pkl/MotorPriceModel_Kawasaki_Estrella_bensin.pkl\n",
      "Model saved: file_pkl/MotorPriceModel_Kawasaki_Ninja_bensin.pkl\n",
      "Not enough data for company: 3, model: 57, fuel: 1\n",
      "Model saved: file_pkl/MotorPriceModel_Kawasaki_Ninja ER-6N_bensin.pkl\n",
      "Model saved: file_pkl/MotorPriceModel_Viar_Karya_bensin.pkl\n",
      "Not enough data for company: 14, model: 55, fuel: 1\n",
      "Not enough data for company: 14, model: 1, fuel: 2\n",
      "Model saved: file_pkl/MotorPriceModel_Benelli_BN_bensin.pkl\n",
      "Not enough data for company: 16, model: 62, fuel: 1\n",
      "Model saved: file_pkl/MotorPriceModel_Suzuki_Satria_bensin.pkl\n"
     ]
    },
    {
     "name": "stdout",
     "output_type": "stream",
     "text": [
      "Model saved: file_pkl/MotorPriceModel_Suzuki_GSX_bensin.pkl\n",
      "Not enough data for company: 7, model: 71, fuel: 1\n",
      "Model saved: file_pkl/MotorPriceModel_Suzuki_Shogun_bensin.pkl\n",
      "Not enough data for company: 7, model: 50, fuel: 1\n",
      "Not enough data for company: 18, model: 53, fuel: 1\n",
      "Not enough data for company: 18, model: 52, fuel: 1\n",
      "Model saved: file_pkl/MotorPriceModel_Yadea_Lain-lain_listrik.pkl\n",
      "Model saved: file_pkl/MotorPriceModel_Uwinifly_Lain-lain_listrik.pkl\n",
      "Model saved: file_pkl/MotorPriceModel_Alva_Lain-lain_listrik.pkl\n",
      "Model saved: file_pkl/MotorPriceModel_Smoot_Lain-lain_listrik.pkl\n",
      "Model saved: file_pkl/MotorPriceModel_Goda_Lain-lain_listrik.pkl\n",
      "Model saved: file_pkl/MotorPriceModel_Gesits_Lain-lain_listrik.pkl\n",
      "Not enough data for company: 19, model: 1, fuel: 2\n",
      "Model saved: file_pkl/MotorPriceModel_Genio_Lain-lain_listrik.pkl\n",
      "Model saved: file_pkl/MotorPriceModel_Exsotik_Lain-lain_listrik.pkl\n",
      "Model saved: file_pkl/MotorPriceModel_Volta_Lain-lain_listrik.pkl\n",
      "Not enough data for company: 20, model: 1, fuel: 2\n",
      "Model saved: file_pkl/MotorPriceModel_Tangkas_Lain-lain_listrik.pkl\n",
      "Model saved: file_pkl/MotorPriceModel_United_Lain-lain_listrik.pkl\n",
      "Not enough data for company: 21, model: 1, fuel: 2\n",
      "Not enough data for company: 22, model: 1, fuel: 2\n",
      "Not enough data for company: 23, model: 1, fuel: 2\n"
     ]
    }
   ],
   "source": [
    "for company in motor['company'].unique():\n",
    "    for motor_model in motor[motor['company'] == company]['name'].unique():\n",
    "        for fuel_type in motor[\n",
    "            (motor['company'] == company) & (motor['name'] == motor_model)\n",
    "        ]['fuel_type'].unique():\n",
    "            train_model(company, motor_model, fuel_type)"
   ]
  },
  {
   "cell_type": "markdown",
   "metadata": {},
   "source": [
    "**Mengembalikan nama asli untuk dataset**<br>\n",
    "Membaca kembali mapping dari file JSON"
   ]
  },
  {
   "cell_type": "code",
   "execution_count": 15,
   "metadata": {
    "execution": {
     "iopub.execute_input": "2025-02-08T05:37:48.854121Z",
     "iopub.status.busy": "2025-02-08T05:37:48.853117Z",
     "iopub.status.idle": "2025-02-08T05:37:48.862003Z",
     "shell.execute_reply": "2025-02-08T05:37:48.859405Z"
    }
   },
   "outputs": [],
   "source": [
    "with open('mappings.json', 'r') as f:\n",
    "    mappings = json.load(f)"
   ]
  },
  {
   "cell_type": "code",
   "execution_count": 16,
   "metadata": {
    "execution": {
     "iopub.execute_input": "2025-02-08T05:37:48.869865Z",
     "iopub.status.busy": "2025-02-08T05:37:48.868540Z",
     "iopub.status.idle": "2025-02-08T05:37:48.881168Z",
     "shell.execute_reply": "2025-02-08T05:37:48.879724Z"
    }
   },
   "outputs": [],
   "source": [
    "for col in columns_to_encode:\n",
    "    reverse_mapping = {v: k for k, v in mappings[col].items()}\n",
    "    motor[col] = motor[col].map(reverse_mapping)"
   ]
  },
  {
   "cell_type": "markdown",
   "metadata": {},
   "source": [
    "Menyimpan dataset yang sudah diubah kembali"
   ]
  },
  {
   "cell_type": "code",
   "execution_count": 17,
   "metadata": {
    "execution": {
     "iopub.execute_input": "2025-02-08T05:37:48.887926Z",
     "iopub.status.busy": "2025-02-08T05:37:48.887926Z",
     "iopub.status.idle": "2025-02-08T05:37:48.900039Z",
     "shell.execute_reply": "2025-02-08T05:37:48.898679Z"
    }
   },
   "outputs": [],
   "source": [
    "motor.to_csv('olx_cleaned2.csv', index=False)"
   ]
  },
  {
   "cell_type": "code",
   "execution_count": 18,
   "metadata": {
    "execution": {
     "iopub.execute_input": "2025-02-08T05:37:48.907595Z",
     "iopub.status.busy": "2025-02-08T05:37:48.906595Z",
     "iopub.status.idle": "2025-02-08T05:37:48.914690Z",
     "shell.execute_reply": "2025-02-08T05:37:48.913677Z"
    }
   },
   "outputs": [
    {
     "name": "stdout",
     "output_type": "stream",
     "text": [
      "Proses selesai.\n"
     ]
    }
   ],
   "source": [
    "print(\"Proses selesai.\")"
   ]
  }
 ],
 "metadata": {
  "kernelspec": {
   "display_name": "Python 3",
   "language": "python",
   "name": "python3"
  },
  "language_info": {
   "codemirror_mode": {
    "name": "ipython",
    "version": 3
   },
   "file_extension": ".py",
   "mimetype": "text/x-python",
   "name": "python",
   "nbconvert_exporter": "python",
   "pygments_lexer": "ipython3",
   "version": "3.12.0"
  }
 },
 "nbformat": 4,
 "nbformat_minor": 2
}
